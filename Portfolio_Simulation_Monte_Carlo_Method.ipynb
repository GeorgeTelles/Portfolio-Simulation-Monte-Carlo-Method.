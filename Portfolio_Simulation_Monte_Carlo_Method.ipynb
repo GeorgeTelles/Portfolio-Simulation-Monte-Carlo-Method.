{
  "nbformat": 4,
  "nbformat_minor": 0,
  "metadata": {
    "colab": {
      "provenance": [],
      "collapsed_sections": [
        "gfvA-hOCtYhY"
      ],
      "include_colab_link": true
    },
    "kernelspec": {
      "name": "python3",
      "display_name": "Python 3"
    },
    "language_info": {
      "name": "python"
    }
  },
  "cells": [
    {
      "cell_type": "markdown",
      "metadata": {
        "id": "view-in-github",
        "colab_type": "text"
      },
      "source": [
        "<a href=\"https://colab.research.google.com/github/GeorgeTelles/Portfolio-Simulation-Monte-Carlo-Method./blob/main/Portfolio_Simulation_Monte_Carlo_Method.ipynb\" target=\"_parent\"><img src=\"https://colab.research.google.com/assets/colab-badge.svg\" alt=\"Open In Colab\"/></a>"
      ]
    },
    {
      "cell_type": "markdown",
      "source": [
        "<div>\n",
        "  <img src=\"https://raw.githubusercontent.com/GeorgeTelles/georgetelles/f69531ec6b293b5148563588a764c010015d315e/logo_clara.png\" alt=\"logo clara\" width=\"300\" style=\"display: inline-block; vertical-align: top; margin-right: 10px;\">\n",
        "  <img src=\"https://raw.githubusercontent.com/GeorgeTelles/georgetelles/f69531ec6b293b5148563588a764c010015d315e/logo_dark.png\" alt=\"logo dark\" width=\"300\" style=\"display: inline-block; vertical-align: top;\">\n",
        "</div>"
      ],
      "metadata": {
        "id": "EVgiw0ptT-Bh"
      }
    },
    {
      "cell_type": "markdown",
      "source": [
        "# Portfolio Simulation with the Monte Carlo Method"
      ],
      "metadata": {
        "id": "uc7Tpuxot2L4"
      }
    },
    {
      "cell_type": "markdown",
      "source": [
        "## Introduction\n",
        "\n",
        "Analyzing and optimizing financial portfolios are complex challenges that require advanced techniques to estimate the future behavior of assets and assess risk. A powerful and widely used tool for these purposes is the Monte Carlo method. This project demonstrates how to use this statistical technique to simulate the behavior of a financial portfolio over time, providing valuable insights into potential returns and associated risks.\n",
        "\n",
        "The Monte Carlo method stands out for its ability to solve complex mathematical problems through the generation of multiple random samples. Essentially, it allows for the simulation of future scenarios to better understand asset behavior under different market conditions. This methodology is ideal for situations where analytical solutions are not feasible, offering a practical and realistic view of future scenarios.\n",
        "\n",
        "## Monte Carlo Method with Cholesky Decomposition\n",
        "\n",
        "The Monte Carlo technique used in this project is enhanced by Cholesky decomposition, which plays a crucial role in generating realistic daily returns that preserve correlations between portfolio assets. Here are the key aspects of this approach:\n",
        "\n",
        "### Rationale of the Method\n",
        "\n",
        "1. **Generation of Random Variables**: The first step is to create random variables that follow a specific distribution. In the context of finance, this means generating daily returns that reflect the statistical characteristics of the assets.\n",
        "\n",
        "2. **Use of the Covariance Matrix**: The covariance matrix is essential for understanding how different assets move relative to each other. It describes the relationship between asset returns and is crucial for simulating scenarios that reflect the real behavior of assets.\n",
        "\n",
        "### Implementation\n",
        "\n",
        "The formula used to calculate simulated daily returns is:\n",
        "\n",
        "\\[ R_t = \\mu + LZ_t \\]\n",
        "\n",
        "Where:\n",
        "- \\( R_t \\) is the vector of daily returns.\n",
        "- \\( \\mu \\) is the vector of average returns.\n",
        "- \\( L \\) is the lower triangular matrix obtained from the Cholesky decomposition of the covariance matrix.\n",
        "- \\( Z_t \\) is a vector of normally distributed random numbers.\n",
        "\n",
        "### Cholesky Decomposition\n",
        "\n",
        "Cholesky decomposition is a mathematical technique that decomposes a covariance matrix \\( \\Sigma \\) into two lower triangular matrices \\( L \\) and their transposes \\( L^T \\). This approach allows for the generation of daily returns with specific asset correlations, preserving the covariance matrix structure and ensuring realistic simulations.\n",
        "\n",
        "### Simulation\n",
        "\n",
        "The simulation process involves the following steps:\n",
        "\n",
        "1. **Data Import**: Historical asset price data is used to calculate daily returns and covariance matrices.\n",
        "\n",
        "2. **Parameter Configuration**: Define the number of simulations and the time horizon for the portfolio simulation.\n",
        "\n",
        "3. **Return Simulation**: Use Cholesky decomposition to generate simulated daily returns that capture the covariance between assets.\n",
        "\n",
        "4. **Portfolio Returns Calculation**: Simulate portfolio behavior over time by applying different asset weights and calculating the accumulated return.\n",
        "\n",
        "5. **Visualization and Analysis**: Plot simulation results and identify portfolios with the best performance.\n",
        "\n",
        "## Results and Insights\n",
        "\n",
        "The simulation results provide a detailed view of portfolio behavior under various scenarios. The analysis includes identifying the best-performing portfolios and visualizing how different weight configurations impact accumulated returns.\n",
        "\n",
        "This project not only demonstrates the practical application of the Monte Carlo method and Cholesky decomposition but also provides a powerful tool for portfolio analysis and optimization. It serves as an example of how advanced techniques can be used to solve complex problems practically and efficiently.\n",
        "\n",
        "## Conclusion\n",
        "\n",
        "Monte Carlo simulation is an indispensable technique in financial analysis, offering deep insights into portfolio behavior and the impact of market variables. By applying Cholesky decomposition, this project illustrates a robust approach to generating realistic and informative scenarios, essential for investors and analysts looking to optimize their investment strategies.\n",
        "\n",
        "For more details on Cholesky decomposition and the Monte Carlo method, refer to the [Wikipedia page on Cholesky Decomposition](https://pt.wikipedia.org/wiki/Fatora%C3%A7%C3%A3o_de_Cholesky).\n",
        "\n",
        "---\n",
        "\n",
        "Share this project and discover how advanced statistical techniques can transform financial analysis. For more updates and insights, follow my profile on [LinkedIn](https://pt.linkedin.com/in/georgetelles)."
      ],
      "metadata": {
        "id": "umfAZEA9ttrZ"
      }
    },
    {
      "cell_type": "markdown",
      "source": [
        "# Simulação de Portfólio com o Método de Monte Carlo"
      ],
      "metadata": {
        "id": "gfvA-hOCtYhY"
      }
    },
    {
      "cell_type": "markdown",
      "source": [
        "\n",
        "\n",
        "## Introdução\n",
        "\n",
        "A análise e otimização de portfólios financeiros são desafios complexos que exigem técnicas avançadas para estimar o comportamento futuro dos ativos e avaliar o risco. Uma ferramenta poderosa e amplamente utilizada para esses fins é o método de Monte Carlo. Este projeto demonstra como utilizar essa técnica estatística para simular o comportamento de um portfólio de ativos financeiros ao longo do tempo, fornecendo insights valiosos sobre o potencial de retorno e o risco associado.\n",
        "\n",
        "O método de Monte Carlo se destaca por sua capacidade de resolver problemas matemáticos complexos através da geração de múltiplas amostras aleatórias. Em essência, ele permite a simulação de cenários futuros para entender melhor o comportamento dos ativos em diferentes condições de mercado. A metodologia é ideal para situações onde soluções analíticas são inviáveis, oferecendo uma visão prática e realista de cenários futuros.\n",
        "\n",
        "## Método de Monte Carlo com Decomposição de Cholesky\n",
        "\n",
        "A técnica de Monte Carlo utilizada neste projeto é aprimorada pela decomposição de Cholesky, que desempenha um papel crucial na geração de retornos diários realistas que preservam as correlações entre os ativos do portfólio. Aqui estão os principais aspectos dessa abordagem:\n",
        "\n",
        "### Racional do Método\n",
        "\n",
        "1. **Geração de Variáveis Aleatórias**: O primeiro passo é criar variáveis aleatórias que seguem uma distribuição específica. No contexto de finanças, isso significa gerar retornos diários que refletem as características estatísticas dos ativos.\n",
        "\n",
        "2. **Uso da Matriz de Covariância**: A matriz de covariância é fundamental para entender como diferentes ativos se movem em relação uns aos outros. Ela descreve a relação entre os retornos dos ativos e é essencial para simular cenários que refletem o comportamento real dos ativos.\n",
        "\n",
        "### Implementação\n",
        "\n",
        "A fórmula usada para calcular os retornos diários simulados é:\n",
        "\n",
        "\\[ R_t = \\mu + LZ_t \\]\n",
        "\n",
        "Onde:\n",
        "- \\( R_t \\) é o vetor de retornos diários.\n",
        "- \\( \\mu \\) é o vetor de médias dos retornos.\n",
        "- \\( L \\) é a matriz triangular inferior obtida pela decomposição de Cholesky da matriz de covariância.\n",
        "- \\( Z_t \\) é um vetor de números aleatórios normalmente distribuídos.\n",
        "\n",
        "### Decomposição de Cholesky\n",
        "\n",
        "A decomposição de Cholesky é uma técnica matemática que decompõe uma matriz de covariância \\( \\Sigma \\) em duas matrizes triangulares inferiores \\( L \\) e suas transpostas \\( L^T \\). Esta abordagem permite gerar retornos diários com correlações específicas entre os ativos, preservando a estrutura da matriz de covariância e garantindo simulações realistas.\n",
        "\n",
        "### Simulação\n",
        "\n",
        "O processo de simulação envolve os seguintes passos:\n",
        "\n",
        "1. **Importação dos Dados**: Utilizamos dados históricos de preços de ativos financeiros para calcular retornos diários e matrizes de covariância.\n",
        "\n",
        "2. **Configuração dos Parâmetros**: Definimos o número de simulações e o horizonte de tempo para a simulação do portfólio.\n",
        "\n",
        "3. **Simulação dos Retornos**: Utilizamos a decomposição de Cholesky para gerar retornos diários simulados que capturam a covariância entre os ativos.\n",
        "\n",
        "4. **Cálculo dos Retornos do Portfólio**: Simulamos o comportamento do portfólio ao longo do tempo, aplicando diferentes pesos para cada ativo e calculando o retorno acumulado.\n",
        "\n",
        "5. **Visualização e Análise**: Plotamos os resultados das simulações e identificamos os portfólios com os melhores desempenhos.\n",
        "\n",
        "## Resultados e Insights\n",
        "\n",
        "Os resultados da simulação fornecem uma visão detalhada do comportamento do portfólio sob diferentes cenários. A análise inclui a identificação dos portfólios com o melhor desempenho e a visualização de como diferentes configurações de pesos impactam o retorno acumulado.\n",
        "\n",
        "Este projeto não só demonstra a aplicação prática do método de Monte Carlo e da decomposição de Cholesky, mas também fornece uma ferramenta poderosa para a análise e otimização de portfólios. Ele é um exemplo de como técnicas avançadas podem ser usadas para resolver problemas complexos de forma prática e eficiente.\n",
        "\n",
        "## Conclusão\n",
        "\n",
        "A simulação de Monte Carlo é uma técnica indispensável na análise financeira, oferecendo insights profundos sobre o comportamento dos portfólios e o impacto das variáveis de mercado. Ao aplicar a decomposição de Cholesky, este projeto ilustra uma abordagem robusta para gerar cenários realistas e informativos, essencial para investidores e analistas que buscam otimizar suas estratégias de investimento.\n",
        "\n",
        "Para mais detalhes sobre a decomposição de Cholesky e o método de Monte Carlo, consulte a [Wikipedia sobre Fatoração de Cholesky](https://pt.wikipedia.org/wiki/Fatora%C3%A7%C3%A3o_de_Cholesky).\n",
        "\n",
        "---\n",
        "\n",
        "Compartilhe este projeto e descubra como técnicas estatísticas avançadas podem transformar a análise financeira. Para mais atualizações e insights, siga meu perfil no [LinkedIn](https://pt.linkedin.com/in/georgetelles).\n"
      ],
      "metadata": {
        "id": "jSx97iSkoIXg"
      }
    },
    {
      "cell_type": "markdown",
      "source": [
        "# 1. Importação das bibliotecas e captura dos dados"
      ],
      "metadata": {
        "id": "uV6ytXSrMrFj"
      }
    },
    {
      "cell_type": "code",
      "execution_count": null,
      "metadata": {
        "id": "dhcy9n6xED2A"
      },
      "outputs": [],
      "source": [
        "import pandas as pd\n",
        "import matplotlib.pyplot as plt\n",
        "import datetime as dt\n",
        "import yfinance as yf\n",
        "import numpy as np"
      ]
    },
    {
      "cell_type": "code",
      "source": [
        "fim = '2024-08-07'\n",
        "inicio = '2021-01-15'"
      ],
      "metadata": {
        "id": "9SjFFkZETnUS"
      },
      "execution_count": null,
      "outputs": []
    },
    {
      "cell_type": "code",
      "source": [
        "acoes = ['VALE3.SA', 'PETR4.SA', 'WEGE3.SA', 'MGLU3.SA', 'BBDC4.SA', 'PRIO3.SA', 'LREN3.SA']"
      ],
      "metadata": {
        "id": "e0R4gUfbHvHH"
      },
      "execution_count": null,
      "outputs": []
    },
    {
      "cell_type": "code",
      "source": [
        "dados = yf.download(acoes, inicio, fim)['Close']"
      ],
      "metadata": {
        "id": "4RUockWeTKIc"
      },
      "execution_count": null,
      "outputs": []
    },
    {
      "cell_type": "markdown",
      "source": [
        "## 2. Cálculo das métricas quantitativas"
      ],
      "metadata": {
        "id": "2ZxJ1JkS3Z22"
      }
    },
    {
      "cell_type": "code",
      "source": [
        "retornos = dados.pct_change()\n",
        "retorno_medio = retornos.mean()\n",
        "covMatrix = retornos.cov()"
      ],
      "metadata": {
        "id": "6eRb_TrK3drJ"
      },
      "execution_count": null,
      "outputs": []
    },
    {
      "cell_type": "markdown",
      "source": [
        "## 3. Configuração dos parâmetros de entrada"
      ],
      "metadata": {
        "id": "Nfbg_sfM4n0e"
      }
    },
    {
      "cell_type": "code",
      "source": [
        "#Numero de Simulações\n",
        "sims = 10000\n",
        "\n",
        "# T = Days\n",
        "T = 500\n",
        "\n",
        "portfolio_inicial = 10000"
      ],
      "metadata": {
        "id": "QaWcOzi44uFC"
      },
      "execution_count": null,
      "outputs": []
    },
    {
      "cell_type": "markdown",
      "source": [
        "## 4. Criando o loop do Método de Monte Carlo"
      ],
      "metadata": {
        "id": "OcmtQuGy-TDD"
      }
    },
    {
      "cell_type": "code",
      "source": [
        "# Criar matrizes para armazenar retornos e pesos\n",
        "portfolio_sims = np.full(shape=(T, sims), fill_value=0.0)\n",
        "pesos_sims = np.full(shape=(sims, len(retorno_medio)), fill_value=0.0)\n",
        "\n",
        "# Simulações\n",
        "for i in range(sims):\n",
        "    pesos = np.random.random(len(retorno_medio))\n",
        "    pesos /= np.sum(pesos)  # Normalizar para que a soma dos pesos seja 1\n",
        "    pesos_sims[i] = pesos\n",
        "\n",
        "    # Gerar a matriz Z com distribuição normal\n",
        "    Z = np.random.normal(size=(T, len(retorno_medio)))\n",
        "\n",
        "    # Decomposição de Cholesky\n",
        "    L = np.linalg.cholesky(covMatrix)\n",
        "\n",
        "    # Simular retornos diários\n",
        "    retornos_diarios = np.dot(Z, L.T) + retorno_medio.values  # (T, n) + (n,)\n",
        "\n",
        "    # Calcular o retorno acumulado do portfólio\n",
        "    portfolio_returns = np.dot(retornos_diarios, pesos)  # (T,)\n",
        "    portfolio_sims[:, i] = np.cumprod(portfolio_returns + 1) * portfolio_inicial\n",
        "\n"
      ],
      "metadata": {
        "id": "KeuIG159ljJS"
      },
      "execution_count": null,
      "outputs": []
    },
    {
      "cell_type": "markdown",
      "source": [
        "#5. Visualizando os resultados"
      ],
      "metadata": {
        "id": "lphfzW6OvMaA"
      }
    },
    {
      "cell_type": "code",
      "source": [
        "# Visualizar os resultados\n",
        "plt.plot(portfolio_sims)\n",
        "plt.ylabel('Patrimônio líquido (R$)')\n",
        "plt.xlabel('Dias')\n",
        "plt.title('Simulação de Portfólios usando Monte Carlo')\n",
        "plt.show()"
      ],
      "metadata": {
        "id": "Ji8IBQGVn_wQ"
      },
      "execution_count": null,
      "outputs": []
    },
    {
      "cell_type": "markdown",
      "source": [
        "## 6. Mostrando os portfólios vencedores"
      ],
      "metadata": {
        "id": "2hMfpOR0AT2k"
      }
    },
    {
      "cell_type": "markdown",
      "source": [
        "**Os 10 Portfólios vencedores**"
      ],
      "metadata": {
        "id": "TrJ_KMkion2I"
      }
    },
    {
      "cell_type": "code",
      "source": [
        "# DataFrame com os retornos dos portfólios\n",
        "retorno_portfolio = pd.DataFrame(portfolio_sims)\n",
        "\n",
        "# Os 10 melhores portfólios\n",
        "port_vencedores = retorno_portfolio.iloc[-1].sort_values(ascending=False).head(10)\n",
        "port_vencedores = port_vencedores.rename(\"Valor Final\")\n",
        "\n",
        "# Calculando o retorno em porcentagem\n",
        "port_vencedores_percent = (port_vencedores / portfolio_inicial - 1) * 100\n",
        "\n",
        "# Adicionando a nova coluna ao DataFrame\n",
        "port_vencedores_df = port_vencedores.to_frame(name=\"Valor Final\")\n",
        "port_vencedores_df[\"Retorno (%)\"] = port_vencedores_percent\n",
        "\n",
        "port_vencedores_df"
      ],
      "metadata": {
        "id": "ufuxpFmQoW4g"
      },
      "execution_count": null,
      "outputs": []
    },
    {
      "cell_type": "markdown",
      "source": [
        "**Pesos associados a cada portifolio**"
      ],
      "metadata": {
        "id": "272XgWynrx3w"
      }
    },
    {
      "cell_type": "code",
      "source": [
        "# Obtenha os pesos associados aos melhores portfólios\n",
        "melhores_pesos = pesos_sims[port_vencedores.index]\n",
        "\n",
        "# Crie um DataFrame com os pesos, onde cada item da lista se torna uma coluna\n",
        "pesos_df = pd.DataFrame(melhores_pesos, columns=[f'Peso Ativo {i}' for i in range(melhores_pesos.shape[1])], index=port_vencedores.index)\n",
        "\n",
        "# Crie o DataFrame com os resultados dos retornos finais\n",
        "resultados = pd.DataFrame({'Retorno Final': port_vencedores}, index=port_vencedores.index)\n",
        "\n",
        "# Concatene os DataFrames dos pesos e resultados, mantendo os índices originais\n",
        "resultados_com_pesos = pd.concat([resultados, pesos_df], axis=1)\n",
        "\n",
        "resultados_com_pesos"
      ],
      "metadata": {
        "id": "71PStvE9q2zZ"
      },
      "execution_count": null,
      "outputs": []
    },
    {
      "cell_type": "markdown",
      "source": [
        "**Visualizando o grafico de um portfolio especifico**"
      ],
      "metadata": {
        "id": "r_emrJ7FsA0I"
      }
    },
    {
      "cell_type": "code",
      "source": [
        "n_portfolio = 5995\n",
        "retorno_portfolio[n_portfolio].plot();"
      ],
      "metadata": {
        "id": "FgvNXVPGAtRs"
      },
      "execution_count": null,
      "outputs": []
    }
  ]
}